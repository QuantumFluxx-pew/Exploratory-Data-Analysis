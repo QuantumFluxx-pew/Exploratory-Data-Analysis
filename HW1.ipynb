{
 "cells": [
  {
   "cell_type": "markdown",
   "id": "4b2b1870-76dd-4902-8869-2008326d7cef",
   "metadata": {},
   "source": [
    "## HW#1"
   ]
  },
  {
   "cell_type": "markdown",
   "id": "2708eefa-5dc4-436b-84dc-50d862e9ba62",
   "metadata": {},
   "source": [
    "### Question 1:"
   ]
  },
  {
   "cell_type": "markdown",
   "id": "7a0a60ba-bbb6-45e6-a72c-2c9659c2447b",
   "metadata": {},
   "source": [
    "**a) Estimated Model**"
   ]
  },
  {
   "cell_type": "code",
   "execution_count": 1,
   "id": "306e1fc5-70e9-4834-9a9d-5a87ad5d6ae0",
   "metadata": {},
   "outputs": [
    {
     "name": "stdout",
     "output_type": "stream",
     "text": [
      "ŷ = 21700 + 0.00224·pop + 24200·finance + 30900·prof.tech + 64200·ict + 195000·management\n"
     ]
    }
   ],
   "source": [
    "# Coefficients from regression summary\n",
    "intercept = 21700\n",
    "coef_pop = 0.00224\n",
    "coef_finance = 24200\n",
    "coef_proftech = 30900\n",
    "coef_ict = 64200\n",
    "coef_mgmt = 195000\n",
    "\n",
    "(intercept, coef_pop, coef_finance, coef_proftech, coef_ict, coef_mgmt)\n",
    "\n",
    "# Format into a readable regression equation string\n",
    "equation = (f\"ŷ = {intercept} + \"\n",
    "            f\"{coef_pop}·pop + \"\n",
    "            f\"{coef_finance}·finance + \"\n",
    "            f\"{coef_proftech}·prof.tech + \"\n",
    "            f\"{coef_ict}·ict + \"\n",
    "            f\"{coef_mgmt}·management\")\n",
    "equation\n",
    "\n",
    "print(equation)"
   ]
  },
  {
   "cell_type": "markdown",
   "id": "8131b8be-cf34-48ee-b3e6-5d19b31b9e39",
   "metadata": {},
   "source": [
    "**b) Residual Sum of Squares (RSS)**  \n",
    "\n",
    "RSS = (7250)^2 \\times 127 = 6{,}675{,}437{,}500"
   ]
  },
  {
   "cell_type": "code",
   "execution_count": 18,
   "id": "5d29cc27-5029-418d-a78d-b60aecd7e97a",
   "metadata": {},
   "outputs": [
    {
     "name": "stdout",
     "output_type": "stream",
     "text": [
      "6,675,437,500\n"
     ]
    }
   ],
   "source": [
    "# Calculating the Residual Sum of Squares (RSS)\n",
    "\n",
    "RSS = (7250**2) * 127\n",
    "print(f\"{RSS:,}\")   "
   ]
  },
  {
   "cell_type": "markdown",
   "id": "03963e9e-af31-4bac-be91-bc03c9834801",
   "metadata": {},
   "source": [
    "**c) Percentage of Variance Explained**  "
   ]
  },
  {
   "cell_type": "code",
   "execution_count": 21,
   "id": "d97afe2e-a682-4119-ace7-21a6e8575dcd",
   "metadata": {},
   "outputs": [
    {
     "data": {
      "text/plain": [
       "'43.3%'"
      ]
     },
     "execution_count": 21,
     "metadata": {},
     "output_type": "execute_result"
    }
   ],
   "source": [
    "R2 = 0.433\n",
    "R2\n",
    "f\"{R2*100:.1f}%\""
   ]
  },
  {
   "cell_type": "markdown",
   "id": "e07e407d-7780-4a16-aab2-ead1b3fed7f8",
   "metadata": {},
   "source": [
    "**d) Relationship Between Variables**  "
   ]
  },
  {
   "cell_type": "code",
   "execution_count": 25,
   "id": "e5b35504-6f29-4a80-a620-0e6ee6fa9178",
   "metadata": {},
   "outputs": [
    {
     "data": {
      "text/plain": [
       "'Yes, significant relationship'"
      ]
     },
     "execution_count": 25,
     "metadata": {},
     "output_type": "execute_result"
    }
   ],
   "source": [
    "F_stat = 19.4\n",
    "p_val = 2.54e-14\n",
    "\n",
    "if p_val < 0.05:\n",
    "    relation = \"Yes, significant relationship\"\n",
    "else:\n",
    "    relation = \"No, not significant\"\n",
    "\n",
    "relation"
   ]
  },
  {
   "cell_type": "markdown",
   "id": "c1d38d5a-a868-40e3-94fc-fc3965d01fc6",
   "metadata": {},
   "source": [
    "This means there is a strong relationship between per-capita GMP and the predictors.  \n",
    "\n",
    "- Significant predictors: pop, finance, ict, management  \n",
    "- Not significant: prof.tech"
   ]
  },
  {
   "cell_type": "markdown",
   "id": "8d75cc56-1b47-4de7-ad70-7d0bfae82581",
   "metadata": {},
   "source": [
    "**e) Predicted per-capita GMP for Pittsburgh**  \n",
    "\n",
    "Given values:  \n",
    "- pop = 2,361,000  \n",
    "- finance = 0.2018  \n",
    "- prof.tech = 0.0777  \n",
    "- ict = 0.03434  \n",
    "- management = 0.02946  "
   ]
  },
  {
   "cell_type": "code",
   "execution_count": 29,
   "id": "5468855f-79a3-4f57-bd74-89a92e1dc841",
   "metadata": {},
   "outputs": [
    {
     "name": "stdout",
     "output_type": "stream",
     "text": [
      "Pittsburgh prediction: 42222.458\n",
      "RSS: 6675437500.0\n",
      "Pittsburgh prediction: 42,222\n",
      "RSS: 6,675,437,500\n"
     ]
    }
   ],
   "source": [
    "# Coefficients from regression summary\n",
    "intercept = 2.17e4\n",
    "coef_pop = 2.24e-03\n",
    "coef_finance = 2.42e4\n",
    "coef_proftech = 3.09e4\n",
    "coef_ict = 6.42e4\n",
    "coef_mgmt = 1.95e5\n",
    "resid_se = 7250.0\n",
    "df_resid = 127\n",
    "\n",
    "# Pittsburgh values\n",
    "pop = 2361000\n",
    "finance = 0.2018\n",
    "proftech = 0.0777\n",
    "ict = 0.03434\n",
    "mgmt = 0.02946\n",
    "\n",
    "# Prediction\n",
    "pcgmp_pred = (intercept\n",
    " + coef_pop * pop\n",
    " + coef_finance * finance\n",
    " + coef_proftech * proftech\n",
    " + coef_ict * ict\n",
    " + coef_mgmt * mgmt)\n",
    "RSS = resid_se**2 * df_resid\n",
    "\n",
    "# Print output\n",
    "print(\"Pittsburgh prediction:\", pcgmp_pred)\n",
    "print(\"RSS:\", RSS)\n",
    "\n",
    "# Formatted output\n",
    "print(f\"Pittsburgh prediction: {pcgmp_pred:,.0f}\")\n",
    "print(f\"RSS: {RSS:,.0f}\")"
   ]
  },
  {
   "cell_type": "markdown",
   "id": "5da8f7fa-2d36-4e39-8e06-f434786f6273",
   "metadata": {},
   "source": [
    "### Question 2: (Exercise 10, Q3 from Textbook)"
   ]
  },
  {
   "cell_type": "code",
   "execution_count": 40,
   "id": "e0c469d2-103b-4e11-823b-7aa59ed270e7",
   "metadata": {},
   "outputs": [],
   "source": [
    "import pandas as pd\n",
    "\n",
    "# Download Carseats dataset from ISLR GitHub repo\n",
    "url = \"https://raw.githubusercontent.com/JWarmenhoven/ISLR-python/master/Notebooks/Data/Carseats.csv\"\n",
    "carseats = pd.read_csv(url, index_col=0)"
   ]
  },
  {
   "cell_type": "code",
   "execution_count": 41,
   "id": "b41c93b2-7096-44c7-a601-135bd9c53fa0",
   "metadata": {},
   "outputs": [
    {
     "data": {
      "text/html": [
       "<div>\n",
       "<style scoped>\n",
       "    .dataframe tbody tr th:only-of-type {\n",
       "        vertical-align: middle;\n",
       "    }\n",
       "\n",
       "    .dataframe tbody tr th {\n",
       "        vertical-align: top;\n",
       "    }\n",
       "\n",
       "    .dataframe thead th {\n",
       "        text-align: right;\n",
       "    }\n",
       "</style>\n",
       "<table border=\"1\" class=\"dataframe\">\n",
       "  <thead>\n",
       "    <tr style=\"text-align: right;\">\n",
       "      <th></th>\n",
       "      <th>Sales</th>\n",
       "      <th>CompPrice</th>\n",
       "      <th>Income</th>\n",
       "      <th>Advertising</th>\n",
       "      <th>Population</th>\n",
       "      <th>Price</th>\n",
       "      <th>ShelveLoc</th>\n",
       "      <th>Age</th>\n",
       "      <th>Education</th>\n",
       "      <th>Urban</th>\n",
       "      <th>US</th>\n",
       "    </tr>\n",
       "  </thead>\n",
       "  <tbody>\n",
       "    <tr>\n",
       "      <th>1</th>\n",
       "      <td>9.50</td>\n",
       "      <td>138</td>\n",
       "      <td>73</td>\n",
       "      <td>11</td>\n",
       "      <td>276</td>\n",
       "      <td>120</td>\n",
       "      <td>Bad</td>\n",
       "      <td>42</td>\n",
       "      <td>17</td>\n",
       "      <td>Yes</td>\n",
       "      <td>Yes</td>\n",
       "    </tr>\n",
       "    <tr>\n",
       "      <th>2</th>\n",
       "      <td>11.22</td>\n",
       "      <td>111</td>\n",
       "      <td>48</td>\n",
       "      <td>16</td>\n",
       "      <td>260</td>\n",
       "      <td>83</td>\n",
       "      <td>Good</td>\n",
       "      <td>65</td>\n",
       "      <td>10</td>\n",
       "      <td>Yes</td>\n",
       "      <td>Yes</td>\n",
       "    </tr>\n",
       "    <tr>\n",
       "      <th>3</th>\n",
       "      <td>10.06</td>\n",
       "      <td>113</td>\n",
       "      <td>35</td>\n",
       "      <td>10</td>\n",
       "      <td>269</td>\n",
       "      <td>80</td>\n",
       "      <td>Medium</td>\n",
       "      <td>59</td>\n",
       "      <td>12</td>\n",
       "      <td>Yes</td>\n",
       "      <td>Yes</td>\n",
       "    </tr>\n",
       "    <tr>\n",
       "      <th>4</th>\n",
       "      <td>7.40</td>\n",
       "      <td>117</td>\n",
       "      <td>100</td>\n",
       "      <td>4</td>\n",
       "      <td>466</td>\n",
       "      <td>97</td>\n",
       "      <td>Medium</td>\n",
       "      <td>55</td>\n",
       "      <td>14</td>\n",
       "      <td>Yes</td>\n",
       "      <td>Yes</td>\n",
       "    </tr>\n",
       "    <tr>\n",
       "      <th>5</th>\n",
       "      <td>4.15</td>\n",
       "      <td>141</td>\n",
       "      <td>64</td>\n",
       "      <td>3</td>\n",
       "      <td>340</td>\n",
       "      <td>128</td>\n",
       "      <td>Bad</td>\n",
       "      <td>38</td>\n",
       "      <td>13</td>\n",
       "      <td>Yes</td>\n",
       "      <td>No</td>\n",
       "    </tr>\n",
       "  </tbody>\n",
       "</table>\n",
       "</div>"
      ],
      "text/plain": [
       "   Sales  CompPrice  Income  Advertising  Population  Price ShelveLoc  Age  \\\n",
       "1   9.50        138      73           11         276    120       Bad   42   \n",
       "2  11.22        111      48           16         260     83      Good   65   \n",
       "3  10.06        113      35           10         269     80    Medium   59   \n",
       "4   7.40        117     100            4         466     97    Medium   55   \n",
       "5   4.15        141      64            3         340    128       Bad   38   \n",
       "\n",
       "   Education Urban   US  \n",
       "1         17   Yes  Yes  \n",
       "2         10   Yes  Yes  \n",
       "3         12   Yes  Yes  \n",
       "4         14   Yes  Yes  \n",
       "5         13   Yes   No  "
      ]
     },
     "execution_count": 41,
     "metadata": {},
     "output_type": "execute_result"
    }
   ],
   "source": [
    "carseats.head()"
   ]
  },
  {
   "cell_type": "code",
   "execution_count": 39,
   "id": "ee760457-f01b-4408-b627-41aa235b778a",
   "metadata": {},
   "outputs": [
    {
     "data": {
      "text/html": [
       "<div>\n",
       "<style scoped>\n",
       "    .dataframe tbody tr th:only-of-type {\n",
       "        vertical-align: middle;\n",
       "    }\n",
       "\n",
       "    .dataframe tbody tr th {\n",
       "        vertical-align: top;\n",
       "    }\n",
       "\n",
       "    .dataframe thead th {\n",
       "        text-align: right;\n",
       "    }\n",
       "</style>\n",
       "<table border=\"1\" class=\"dataframe\">\n",
       "  <thead>\n",
       "    <tr style=\"text-align: right;\">\n",
       "      <th></th>\n",
       "      <th>Sales</th>\n",
       "      <th>CompPrice</th>\n",
       "      <th>Income</th>\n",
       "      <th>Advertising</th>\n",
       "      <th>Population</th>\n",
       "      <th>Price</th>\n",
       "      <th>ShelveLoc</th>\n",
       "      <th>Age</th>\n",
       "      <th>Education</th>\n",
       "      <th>Urban</th>\n",
       "      <th>US</th>\n",
       "    </tr>\n",
       "  </thead>\n",
       "  <tbody>\n",
       "    <tr>\n",
       "      <th>396</th>\n",
       "      <td>12.57</td>\n",
       "      <td>138</td>\n",
       "      <td>108</td>\n",
       "      <td>17</td>\n",
       "      <td>203</td>\n",
       "      <td>128</td>\n",
       "      <td>Good</td>\n",
       "      <td>33</td>\n",
       "      <td>14</td>\n",
       "      <td>Yes</td>\n",
       "      <td>Yes</td>\n",
       "    </tr>\n",
       "    <tr>\n",
       "      <th>397</th>\n",
       "      <td>6.14</td>\n",
       "      <td>139</td>\n",
       "      <td>23</td>\n",
       "      <td>3</td>\n",
       "      <td>37</td>\n",
       "      <td>120</td>\n",
       "      <td>Medium</td>\n",
       "      <td>55</td>\n",
       "      <td>11</td>\n",
       "      <td>No</td>\n",
       "      <td>Yes</td>\n",
       "    </tr>\n",
       "    <tr>\n",
       "      <th>398</th>\n",
       "      <td>7.41</td>\n",
       "      <td>162</td>\n",
       "      <td>26</td>\n",
       "      <td>12</td>\n",
       "      <td>368</td>\n",
       "      <td>159</td>\n",
       "      <td>Medium</td>\n",
       "      <td>40</td>\n",
       "      <td>18</td>\n",
       "      <td>Yes</td>\n",
       "      <td>Yes</td>\n",
       "    </tr>\n",
       "    <tr>\n",
       "      <th>399</th>\n",
       "      <td>5.94</td>\n",
       "      <td>100</td>\n",
       "      <td>79</td>\n",
       "      <td>7</td>\n",
       "      <td>284</td>\n",
       "      <td>95</td>\n",
       "      <td>Bad</td>\n",
       "      <td>50</td>\n",
       "      <td>12</td>\n",
       "      <td>Yes</td>\n",
       "      <td>Yes</td>\n",
       "    </tr>\n",
       "    <tr>\n",
       "      <th>400</th>\n",
       "      <td>9.71</td>\n",
       "      <td>134</td>\n",
       "      <td>37</td>\n",
       "      <td>0</td>\n",
       "      <td>27</td>\n",
       "      <td>120</td>\n",
       "      <td>Good</td>\n",
       "      <td>49</td>\n",
       "      <td>16</td>\n",
       "      <td>Yes</td>\n",
       "      <td>Yes</td>\n",
       "    </tr>\n",
       "  </tbody>\n",
       "</table>\n",
       "</div>"
      ],
      "text/plain": [
       "     Sales  CompPrice  Income  Advertising  Population  Price ShelveLoc  Age  \\\n",
       "396  12.57        138     108           17         203    128      Good   33   \n",
       "397   6.14        139      23            3          37    120    Medium   55   \n",
       "398   7.41        162      26           12         368    159    Medium   40   \n",
       "399   5.94        100      79            7         284     95       Bad   50   \n",
       "400   9.71        134      37            0          27    120      Good   49   \n",
       "\n",
       "     Education Urban   US  \n",
       "396         14   Yes  Yes  \n",
       "397         11    No  Yes  \n",
       "398         18   Yes  Yes  \n",
       "399         12   Yes  Yes  \n",
       "400         16   Yes  Yes  "
      ]
     },
     "execution_count": 39,
     "metadata": {},
     "output_type": "execute_result"
    }
   ],
   "source": [
    "carseats.tail()"
   ]
  },
  {
   "cell_type": "markdown",
   "id": "48a47099-fe01-47e3-86c7-9b25488c564c",
   "metadata": {},
   "source": [
    "**a)** Fit a multiple regression model to predict `Sales` using `Price`, `Urban`, and `US`."
   ]
  },
  {
   "cell_type": "code",
   "execution_count": 34,
   "id": "b5c181c4-f551-4b9c-8890-eacc158e450a",
   "metadata": {},
   "outputs": [
    {
     "data": {
      "text/html": [
       "<table class=\"simpletable\">\n",
       "<caption>OLS Regression Results</caption>\n",
       "<tr>\n",
       "  <th>Dep. Variable:</th>          <td>Sales</td>      <th>  R-squared:         </th> <td>   0.239</td>\n",
       "</tr>\n",
       "<tr>\n",
       "  <th>Model:</th>                   <td>OLS</td>       <th>  Adj. R-squared:    </th> <td>   0.234</td>\n",
       "</tr>\n",
       "<tr>\n",
       "  <th>Method:</th>             <td>Least Squares</td>  <th>  F-statistic:       </th> <td>   41.52</td>\n",
       "</tr>\n",
       "<tr>\n",
       "  <th>Date:</th>             <td>Tue, 23 Sep 2025</td> <th>  Prob (F-statistic):</th> <td>2.39e-23</td>\n",
       "</tr>\n",
       "<tr>\n",
       "  <th>Time:</th>                 <td>19:47:09</td>     <th>  Log-Likelihood:    </th> <td> -927.66</td>\n",
       "</tr>\n",
       "<tr>\n",
       "  <th>No. Observations:</th>      <td>   400</td>      <th>  AIC:               </th> <td>   1863.</td>\n",
       "</tr>\n",
       "<tr>\n",
       "  <th>Df Residuals:</th>          <td>   396</td>      <th>  BIC:               </th> <td>   1879.</td>\n",
       "</tr>\n",
       "<tr>\n",
       "  <th>Df Model:</th>              <td>     3</td>      <th>                     </th>     <td> </td>   \n",
       "</tr>\n",
       "<tr>\n",
       "  <th>Covariance Type:</th>      <td>nonrobust</td>    <th>                     </th>     <td> </td>   \n",
       "</tr>\n",
       "</table>\n",
       "<table class=\"simpletable\">\n",
       "<tr>\n",
       "        <td></td>          <th>coef</th>     <th>std err</th>      <th>t</th>      <th>P>|t|</th>  <th>[0.025</th>    <th>0.975]</th>  \n",
       "</tr>\n",
       "<tr>\n",
       "  <th>Intercept</th>    <td>   13.0435</td> <td>    0.651</td> <td>   20.036</td> <td> 0.000</td> <td>   11.764</td> <td>   14.323</td>\n",
       "</tr>\n",
       "<tr>\n",
       "  <th>Urban[T.Yes]</th> <td>   -0.0219</td> <td>    0.272</td> <td>   -0.081</td> <td> 0.936</td> <td>   -0.556</td> <td>    0.512</td>\n",
       "</tr>\n",
       "<tr>\n",
       "  <th>US[T.Yes]</th>    <td>    1.2006</td> <td>    0.259</td> <td>    4.635</td> <td> 0.000</td> <td>    0.691</td> <td>    1.710</td>\n",
       "</tr>\n",
       "<tr>\n",
       "  <th>Price</th>        <td>   -0.0545</td> <td>    0.005</td> <td>  -10.389</td> <td> 0.000</td> <td>   -0.065</td> <td>   -0.044</td>\n",
       "</tr>\n",
       "</table>\n",
       "<table class=\"simpletable\">\n",
       "<tr>\n",
       "  <th>Omnibus:</th>       <td> 0.676</td> <th>  Durbin-Watson:     </th> <td>   1.912</td>\n",
       "</tr>\n",
       "<tr>\n",
       "  <th>Prob(Omnibus):</th> <td> 0.713</td> <th>  Jarque-Bera (JB):  </th> <td>   0.758</td>\n",
       "</tr>\n",
       "<tr>\n",
       "  <th>Skew:</th>          <td> 0.093</td> <th>  Prob(JB):          </th> <td>   0.684</td>\n",
       "</tr>\n",
       "<tr>\n",
       "  <th>Kurtosis:</th>      <td> 2.897</td> <th>  Cond. No.          </th> <td>    628.</td>\n",
       "</tr>\n",
       "</table><br/><br/>Notes:<br/>[1] Standard Errors assume that the covariance matrix of the errors is correctly specified."
      ],
      "text/latex": [
       "\\begin{center}\n",
       "\\begin{tabular}{lclc}\n",
       "\\toprule\n",
       "\\textbf{Dep. Variable:}    &      Sales       & \\textbf{  R-squared:         } &     0.239   \\\\\n",
       "\\textbf{Model:}            &       OLS        & \\textbf{  Adj. R-squared:    } &     0.234   \\\\\n",
       "\\textbf{Method:}           &  Least Squares   & \\textbf{  F-statistic:       } &     41.52   \\\\\n",
       "\\textbf{Date:}             & Tue, 23 Sep 2025 & \\textbf{  Prob (F-statistic):} &  2.39e-23   \\\\\n",
       "\\textbf{Time:}             &     19:47:09     & \\textbf{  Log-Likelihood:    } &   -927.66   \\\\\n",
       "\\textbf{No. Observations:} &         400      & \\textbf{  AIC:               } &     1863.   \\\\\n",
       "\\textbf{Df Residuals:}     &         396      & \\textbf{  BIC:               } &     1879.   \\\\\n",
       "\\textbf{Df Model:}         &           3      & \\textbf{                     } &             \\\\\n",
       "\\textbf{Covariance Type:}  &    nonrobust     & \\textbf{                     } &             \\\\\n",
       "\\bottomrule\n",
       "\\end{tabular}\n",
       "\\begin{tabular}{lcccccc}\n",
       "                      & \\textbf{coef} & \\textbf{std err} & \\textbf{t} & \\textbf{P$> |$t$|$} & \\textbf{[0.025} & \\textbf{0.975]}  \\\\\n",
       "\\midrule\n",
       "\\textbf{Intercept}    &      13.0435  &        0.651     &    20.036  &         0.000        &       11.764    &       14.323     \\\\\n",
       "\\textbf{Urban[T.Yes]} &      -0.0219  &        0.272     &    -0.081  &         0.936        &       -0.556    &        0.512     \\\\\n",
       "\\textbf{US[T.Yes]}    &       1.2006  &        0.259     &     4.635  &         0.000        &        0.691    &        1.710     \\\\\n",
       "\\textbf{Price}        &      -0.0545  &        0.005     &   -10.389  &         0.000        &       -0.065    &       -0.044     \\\\\n",
       "\\bottomrule\n",
       "\\end{tabular}\n",
       "\\begin{tabular}{lclc}\n",
       "\\textbf{Omnibus:}       &  0.676 & \\textbf{  Durbin-Watson:     } &    1.912  \\\\\n",
       "\\textbf{Prob(Omnibus):} &  0.713 & \\textbf{  Jarque-Bera (JB):  } &    0.758  \\\\\n",
       "\\textbf{Skew:}          &  0.093 & \\textbf{  Prob(JB):          } &    0.684  \\\\\n",
       "\\textbf{Kurtosis:}      &  2.897 & \\textbf{  Cond. No.          } &     628.  \\\\\n",
       "\\bottomrule\n",
       "\\end{tabular}\n",
       "%\\caption{OLS Regression Results}\n",
       "\\end{center}\n",
       "\n",
       "Notes: \\newline\n",
       " [1] Standard Errors assume that the covariance matrix of the errors is correctly specified."
      ],
      "text/plain": [
       "<class 'statsmodels.iolib.summary.Summary'>\n",
       "\"\"\"\n",
       "                            OLS Regression Results                            \n",
       "==============================================================================\n",
       "Dep. Variable:                  Sales   R-squared:                       0.239\n",
       "Model:                            OLS   Adj. R-squared:                  0.234\n",
       "Method:                 Least Squares   F-statistic:                     41.52\n",
       "Date:                Tue, 23 Sep 2025   Prob (F-statistic):           2.39e-23\n",
       "Time:                        19:47:09   Log-Likelihood:                -927.66\n",
       "No. Observations:                 400   AIC:                             1863.\n",
       "Df Residuals:                     396   BIC:                             1879.\n",
       "Df Model:                           3                                         \n",
       "Covariance Type:            nonrobust                                         \n",
       "================================================================================\n",
       "                   coef    std err          t      P>|t|      [0.025      0.975]\n",
       "--------------------------------------------------------------------------------\n",
       "Intercept       13.0435      0.651     20.036      0.000      11.764      14.323\n",
       "Urban[T.Yes]    -0.0219      0.272     -0.081      0.936      -0.556       0.512\n",
       "US[T.Yes]        1.2006      0.259      4.635      0.000       0.691       1.710\n",
       "Price           -0.0545      0.005    -10.389      0.000      -0.065      -0.044\n",
       "==============================================================================\n",
       "Omnibus:                        0.676   Durbin-Watson:                   1.912\n",
       "Prob(Omnibus):                  0.713   Jarque-Bera (JB):                0.758\n",
       "Skew:                           0.093   Prob(JB):                        0.684\n",
       "Kurtosis:                       2.897   Cond. No.                         628.\n",
       "==============================================================================\n",
       "\n",
       "Notes:\n",
       "[1] Standard Errors assume that the covariance matrix of the errors is correctly specified.\n",
       "\"\"\""
      ]
     },
     "execution_count": 34,
     "metadata": {},
     "output_type": "execute_result"
    }
   ],
   "source": [
    "import pandas as pd\n",
    "import statsmodels.formula.api as smf\n",
    "\n",
    "# Load Carseats (ISLR dataset mirror)\n",
    "url = \"https://raw.githubusercontent.com/JWarmenhoven/ISLR-python/master/Notebooks/Data/Carseats.csv\"\n",
    "carseats = pd.read_csv(url, index_col=0)\n",
    "\n",
    "# Make sure qualitative variables are treated as categorical\n",
    "carseats[\"Urban\"] = carseats[\"Urban\"].astype(\"category\")\n",
    "carseats[\"US\"] = carseats[\"US\"].astype(\"category\")\n",
    "\n",
    "model_a = smf.ols(\"Sales ~ Price + Urban + US\", data=carseats).fit()\n",
    "model_a.summary()"
   ]
  },
  {
   "cell_type": "markdown",
   "id": "f354e06a-a43b-43d5-9bad-9ad2118aeb7f",
   "metadata": {},
   "source": [
    "**b)** Provide an interpretation of each coefficient in the model."
   ]
  },
  {
   "cell_type": "code",
   "execution_count": 46,
   "id": "84a40a21-5700-4124-ab19-9736530144da",
   "metadata": {},
   "outputs": [
    {
     "data": {
      "text/plain": [
       "Intercept       13.043\n",
       "Urban[T.Yes]    -0.022\n",
       "US[T.Yes]        1.201\n",
       "Price           -0.054\n",
       "dtype: float64"
      ]
     },
     "execution_count": 46,
     "metadata": {},
     "output_type": "execute_result"
    }
   ],
   "source": [
    "coef = model_a.params.round(3)\n",
    "coefcoef = model_a.params.round(3)\n",
    "coef"
   ]
  },
  {
   "cell_type": "markdown",
   "id": "cfdd02e3-414e-4539-a22c-5a12a02b9834",
   "metadata": {},
   "source": [
    "- **Intercept:** Predicted Sales for a non-urban, non-US store when `Price = 0`.Its mostly a reference point.\n",
    "- **UrbanYes:** Difference in Sales between Urban and non-Urban stores, holding other predictors fixed.  \n",
    "- **USYes:** Difference in Sales between US and non-US stores, holding other predictors fixed.\n",
    "- **Price:** Expected change in Sales for a one-unit increase in `Price`, holding `Urban` and `US` fixed. Typically negative.  "
   ]
  },
  {
   "cell_type": "markdown",
   "id": "33e774e0-e5df-4c6b-8aae-6568ecfa2a8c",
   "metadata": {},
   "source": [
    "**c)** Write out the model in equation form, handling qualitative variables properly."
   ]
  },
  {
   "cell_type": "code",
   "execution_count": 49,
   "id": "dd1547a9-aba0-4456-bc5b-dbefff7007cc",
   "metadata": {},
   "outputs": [
    {
     "name": "stdout",
     "output_type": "stream",
     "text": [
      "ŷ = 13.043 + (-0.054)·Price + (-0.022)·Urban[Yes] + (1.201)·US[Yes]\n"
     ]
    }
   ],
   "source": [
    "# Build a readable equation string from model_a\n",
    "b0 = model_a.params[\"Intercept\"]\n",
    "b_price = model_a.params[\"Price\"]\n",
    "\n",
    "# Dummy levels are auto-created: Urban[T.Yes], US[T.Yes]\n",
    "b_urban = model_a.params.get(\"Urban[T.Yes]\", 0.0)   # Coefficient for Urban=Yes vs No\n",
    "b_us = model_a.params.get(\"US[T.Yes]\", 0.0)         # Coefficient for US=Yes vs No\n",
    "\n",
    "#  Build a human-readable regression equation\n",
    "equation = (f\"ŷ = {b0:.3f} + ({b_price:.3f})·Price \"\n",
    "            f\"+ ({b_urban:.3f})·Urban[Yes] + ({b_us:.3f})·US[Yes]\")\n",
    "print(equation)"
   ]
  },
  {
   "cell_type": "markdown",
   "id": "532102ff-1f09-4914-950b-d527430f3cbe",
   "metadata": {},
   "source": [
    "**d)** For which predictors can you reject $$H_0 : \\beta_j = 0$$?"
   ]
  },
  {
   "cell_type": "code",
   "execution_count": 51,
   "id": "564b6343-2593-40ba-bc94-9b9674888fdc",
   "metadata": {},
   "outputs": [
    {
     "data": {
      "text/html": [
       "<div>\n",
       "<style scoped>\n",
       "    .dataframe tbody tr th:only-of-type {\n",
       "        vertical-align: middle;\n",
       "    }\n",
       "\n",
       "    .dataframe tbody tr th {\n",
       "        vertical-align: top;\n",
       "    }\n",
       "\n",
       "    .dataframe thead th {\n",
       "        text-align: right;\n",
       "    }\n",
       "</style>\n",
       "<table border=\"1\" class=\"dataframe\">\n",
       "  <thead>\n",
       "    <tr style=\"text-align: right;\">\n",
       "      <th></th>\n",
       "      <th>coef</th>\n",
       "      <th>pvalue</th>\n",
       "      <th>p&lt;0.05?</th>\n",
       "    </tr>\n",
       "  </thead>\n",
       "  <tbody>\n",
       "    <tr>\n",
       "      <th>Intercept</th>\n",
       "      <td>13.043469</td>\n",
       "      <td>3.626602e-62</td>\n",
       "      <td>True</td>\n",
       "    </tr>\n",
       "    <tr>\n",
       "      <th>Urban[T.Yes]</th>\n",
       "      <td>-0.021916</td>\n",
       "      <td>9.357389e-01</td>\n",
       "      <td>False</td>\n",
       "    </tr>\n",
       "    <tr>\n",
       "      <th>US[T.Yes]</th>\n",
       "      <td>1.200573</td>\n",
       "      <td>4.860245e-06</td>\n",
       "      <td>True</td>\n",
       "    </tr>\n",
       "    <tr>\n",
       "      <th>Price</th>\n",
       "      <td>-0.054459</td>\n",
       "      <td>1.609917e-22</td>\n",
       "      <td>True</td>\n",
       "    </tr>\n",
       "  </tbody>\n",
       "</table>\n",
       "</div>"
      ],
      "text/plain": [
       "                   coef        pvalue  p<0.05?\n",
       "Intercept     13.043469  3.626602e-62     True\n",
       "Urban[T.Yes]  -0.021916  9.357389e-01    False\n",
       "US[T.Yes]      1.200573  4.860245e-06     True\n",
       "Price         -0.054459  1.609917e-22     True"
      ]
     },
     "execution_count": 51,
     "metadata": {},
     "output_type": "execute_result"
    }
   ],
   "source": [
    "# p-values\n",
    "pvals = model_a.pvalues\n",
    "sig = (pvals < 0.05).rename(\"p<0.05?\")\n",
    "pd.concat([model_a.params.rename(\"coef\"), pvals.rename(\"pvalue\"), sig], axis=1)"
   ]
  },
  {
   "cell_type": "markdown",
   "id": "a87296be-fd68-46dc-983e-2046530f8bf1",
   "metadata": {},
   "source": [
    "From the regression output:  \n",
    "- **Price** and **US** have p-values < 0.05 ⇒ we reject \\(H_0\\).  \n",
    "- **Urban** has p-value > 0.05 ⇒ we fail to reject \\(H_0\\)."
   ]
  },
  {
   "cell_type": "markdown",
   "id": "bd9c731b-3553-4c2c-b795-0c65e1d88ac9",
   "metadata": {},
   "source": [
    "**e)** Fit a smaller model using only predictors with evidence of association."
   ]
  },
  {
   "cell_type": "code",
   "execution_count": 60,
   "id": "b0d78b1b-c8cd-4e25-b713-767ab8d4f88b",
   "metadata": {},
   "outputs": [],
   "source": [
    "import statsmodels.formula.api as smf\n",
    "\n",
    "# Smaller model - drop Urban, keep only significant predictors\n",
    "model_e = smf.ols(\"Sales ~ Price + US\", data=carseats).fit()"
   ]
  },
  {
   "cell_type": "code",
   "execution_count": 59,
   "id": "961c7351-d92b-4c0b-8530-adc163643db1",
   "metadata": {},
   "outputs": [
    {
     "data": {
      "text/html": [
       "<div>\n",
       "<style scoped>\n",
       "    .dataframe tbody tr th:only-of-type {\n",
       "        vertical-align: middle;\n",
       "    }\n",
       "\n",
       "    .dataframe tbody tr th {\n",
       "        vertical-align: top;\n",
       "    }\n",
       "\n",
       "    .dataframe thead th {\n",
       "        text-align: right;\n",
       "    }\n",
       "</style>\n",
       "<table border=\"1\" class=\"dataframe\">\n",
       "  <thead>\n",
       "    <tr style=\"text-align: right;\">\n",
       "      <th></th>\n",
       "      <th>2.5%</th>\n",
       "      <th>97.5%</th>\n",
       "    </tr>\n",
       "  </thead>\n",
       "  <tbody>\n",
       "    <tr>\n",
       "      <th>Intercept</th>\n",
       "      <td>11.7903</td>\n",
       "      <td>14.2713</td>\n",
       "    </tr>\n",
       "    <tr>\n",
       "      <th>US[T.Yes]</th>\n",
       "      <td>0.6915</td>\n",
       "      <td>1.7078</td>\n",
       "    </tr>\n",
       "    <tr>\n",
       "      <th>Price</th>\n",
       "      <td>-0.0648</td>\n",
       "      <td>-0.0442</td>\n",
       "    </tr>\n",
       "  </tbody>\n",
       "</table>\n",
       "</div>"
      ],
      "text/plain": [
       "              2.5%    97.5%\n",
       "Intercept  11.7903  14.2713\n",
       "US[T.Yes]   0.6915   1.7078\n",
       "Price      -0.0648  -0.0442"
      ]
     },
     "execution_count": 59,
     "metadata": {},
     "output_type": "execute_result"
    }
   ],
   "source": [
    "conf_intervals = model_e.conf_int(alpha=0.05)\n",
    "conf_intervals = conf_intervals.rename(columns={0: \"2.5%\", 1: \"97.5%\"}).round(4)\n",
    "conf_intervals"
   ]
  },
  {
   "cell_type": "markdown",
   "id": "20c5048f-a6fe-4ec9-8424-70b2de0bdf8a",
   "metadata": {},
   "source": [
    "**f)** How well do the models in (a) and (e) fit the data?"
   ]
  },
  {
   "cell_type": "code",
   "execution_count": 61,
   "id": "0faca75e-638d-49b6-845a-47d5c829170f",
   "metadata": {},
   "outputs": [
    {
     "data": {
      "text/html": [
       "<div>\n",
       "<style scoped>\n",
       "    .dataframe tbody tr th:only-of-type {\n",
       "        vertical-align: middle;\n",
       "    }\n",
       "\n",
       "    .dataframe tbody tr th {\n",
       "        vertical-align: top;\n",
       "    }\n",
       "\n",
       "    .dataframe thead th {\n",
       "        text-align: right;\n",
       "    }\n",
       "</style>\n",
       "<table border=\"1\" class=\"dataframe\">\n",
       "  <thead>\n",
       "    <tr style=\"text-align: right;\">\n",
       "      <th></th>\n",
       "      <th>Model</th>\n",
       "      <th>R2</th>\n",
       "      <th>Adj_R2</th>\n",
       "      <th>AIC</th>\n",
       "      <th>BIC</th>\n",
       "    </tr>\n",
       "  </thead>\n",
       "  <tbody>\n",
       "    <tr>\n",
       "      <th>0</th>\n",
       "      <td>(a) Price + Urban + US</td>\n",
       "      <td>0.2393</td>\n",
       "      <td>0.2335</td>\n",
       "      <td>1863.3121</td>\n",
       "      <td>1879.2779</td>\n",
       "    </tr>\n",
       "    <tr>\n",
       "      <th>1</th>\n",
       "      <td>(e) Price + US</td>\n",
       "      <td>0.2393</td>\n",
       "      <td>0.2354</td>\n",
       "      <td>1861.3186</td>\n",
       "      <td>1873.2930</td>\n",
       "    </tr>\n",
       "  </tbody>\n",
       "</table>\n",
       "</div>"
      ],
      "text/plain": [
       "                    Model      R2  Adj_R2        AIC        BIC\n",
       "0  (a) Price + Urban + US  0.2393  0.2335  1863.3121  1879.2779\n",
       "1          (e) Price + US  0.2393  0.2354  1861.3186  1873.2930"
      ]
     },
     "execution_count": 61,
     "metadata": {},
     "output_type": "execute_result"
    }
   ],
   "source": [
    "fit_compare = pd.DataFrame({\n",
    "    \"Model\": [\"(a) Price + Urban + US\", \"(e) Price + US\"],\n",
    "    \"R2\": [model_a.rsquared, model_e.rsquared],\n",
    "    \"Adj_R2\": [model_a.rsquared_adj, model_e.rsquared_adj],\n",
    "    \"AIC\": [model_a.aic, model_e.aic],\n",
    "    \"BIC\": [model_a.bic, model_e.bic]\n",
    "}).round(4)\n",
    "fit_compare"
   ]
  },
  {
   "cell_type": "markdown",
   "id": "83321dcb-1f22-4392-bdf9-a4e6d398b477",
   "metadata": {},
   "source": [
    "Both models have very similar R^2 and Adjusted R^2 values.  \n",
    "This means dropping `Urban` does not hurt the fit.  \n",
    "\n",
    "The smaller model also has slightly lower AIC and BIC, which means it is simpler but still fits the data just as well."
   ]
  },
  {
   "cell_type": "markdown",
   "id": "2be6adad-03c0-485e-bf73-c76ce2b8aaeb",
   "metadata": {},
   "source": [
    "**g)** Using the model from (e), obtain 95% confidence intervals for the coefficient(s)."
   ]
  },
  {
   "cell_type": "code",
   "execution_count": 63,
   "id": "3fd7f24f-9ce6-47b1-8576-d8f190a4dba6",
   "metadata": {},
   "outputs": [
    {
     "data": {
      "text/html": [
       "<div>\n",
       "<style scoped>\n",
       "    .dataframe tbody tr th:only-of-type {\n",
       "        vertical-align: middle;\n",
       "    }\n",
       "\n",
       "    .dataframe tbody tr th {\n",
       "        vertical-align: top;\n",
       "    }\n",
       "\n",
       "    .dataframe thead th {\n",
       "        text-align: right;\n",
       "    }\n",
       "</style>\n",
       "<table border=\"1\" class=\"dataframe\">\n",
       "  <thead>\n",
       "    <tr style=\"text-align: right;\">\n",
       "      <th></th>\n",
       "      <th>2.5%</th>\n",
       "      <th>97.5%</th>\n",
       "    </tr>\n",
       "  </thead>\n",
       "  <tbody>\n",
       "    <tr>\n",
       "      <th>Intercept</th>\n",
       "      <td>11.7903</td>\n",
       "      <td>14.2713</td>\n",
       "    </tr>\n",
       "    <tr>\n",
       "      <th>US[T.Yes]</th>\n",
       "      <td>0.6915</td>\n",
       "      <td>1.7078</td>\n",
       "    </tr>\n",
       "    <tr>\n",
       "      <th>Price</th>\n",
       "      <td>-0.0648</td>\n",
       "      <td>-0.0442</td>\n",
       "    </tr>\n",
       "  </tbody>\n",
       "</table>\n",
       "</div>"
      ],
      "text/plain": [
       "              2.5%    97.5%\n",
       "Intercept  11.7903  14.2713\n",
       "US[T.Yes]   0.6915   1.7078\n",
       "Price      -0.0648  -0.0442"
      ]
     },
     "execution_count": 63,
     "metadata": {},
     "output_type": "execute_result"
    }
   ],
   "source": [
    "# 95% confidence intervals for coefficients in the smaller model\n",
    "conf_intervals = model_e.conf_int(alpha=0.05)\n",
    "conf_intervals = conf_intervals.rename(columns={0: \"2.5%\", 1: \"97.5%\"}).round(4)\n",
    "conf_intervals"
   ]
  },
  {
   "cell_type": "markdown",
   "id": "3b4b01aa-42ba-45e8-9653-e86ff413517d",
   "metadata": {},
   "source": [
    "The 95% confidence intervals show the likely ranges for each coefficient.  \n",
    "For example, `Price` has a negative interval (-0.065 to -0.042), confirming that higher price reduces sales.  \n",
    "`US` has a positive interval (0.77 to 1.64), showing sales are higher in the US.  "
   ]
  },
  {
   "cell_type": "markdown",
   "id": "c0ae3f36-db20-4345-8ce1-801b210a918c",
   "metadata": {},
   "source": [
    "**h)** Is there evidence of outliers or high leverage observations in the model from (e)?"
   ]
  },
  {
   "cell_type": "code",
   "execution_count": 65,
   "id": "642b446f-b764-4be4-9c32-b31103b4f576",
   "metadata": {},
   "outputs": [
    {
     "data": {
      "text/html": [
       "<div>\n",
       "<style scoped>\n",
       "    .dataframe tbody tr th:only-of-type {\n",
       "        vertical-align: middle;\n",
       "    }\n",
       "\n",
       "    .dataframe tbody tr th {\n",
       "        vertical-align: top;\n",
       "    }\n",
       "\n",
       "    .dataframe thead th {\n",
       "        text-align: right;\n",
       "    }\n",
       "</style>\n",
       "<table border=\"1\" class=\"dataframe\">\n",
       "  <thead>\n",
       "    <tr style=\"text-align: right;\">\n",
       "      <th></th>\n",
       "      <th>leverage</th>\n",
       "      <th>cooks_d</th>\n",
       "      <th>abs_resid</th>\n",
       "    </tr>\n",
       "  </thead>\n",
       "  <tbody>\n",
       "    <tr>\n",
       "      <th>26</th>\n",
       "      <td>0.0116</td>\n",
       "      <td>0.0261</td>\n",
       "      <td>6.3364</td>\n",
       "    </tr>\n",
       "    <tr>\n",
       "      <th>368</th>\n",
       "      <td>0.0237</td>\n",
       "      <td>0.0243</td>\n",
       "      <td>4.2265</td>\n",
       "    </tr>\n",
       "    <tr>\n",
       "      <th>50</th>\n",
       "      <td>0.0126</td>\n",
       "      <td>0.0228</td>\n",
       "      <td>5.6964</td>\n",
       "    </tr>\n",
       "    <tr>\n",
       "      <th>317</th>\n",
       "      <td>0.0129</td>\n",
       "      <td>0.0205</td>\n",
       "      <td>5.3220</td>\n",
       "    </tr>\n",
       "    <tr>\n",
       "      <th>166</th>\n",
       "      <td>0.0286</td>\n",
       "      <td>0.0198</td>\n",
       "      <td>3.4552</td>\n",
       "    </tr>\n",
       "    <tr>\n",
       "      <th>377</th>\n",
       "      <td>0.0066</td>\n",
       "      <td>0.0183</td>\n",
       "      <td>7.0515</td>\n",
       "    </tr>\n",
       "    <tr>\n",
       "      <th>259</th>\n",
       "      <td>0.0119</td>\n",
       "      <td>0.0177</td>\n",
       "      <td>5.1481</td>\n",
       "    </tr>\n",
       "    <tr>\n",
       "      <th>144</th>\n",
       "      <td>0.0119</td>\n",
       "      <td>0.0169</td>\n",
       "      <td>5.0385</td>\n",
       "    </tr>\n",
       "    <tr>\n",
       "      <th>31</th>\n",
       "      <td>0.0098</td>\n",
       "      <td>0.0158</td>\n",
       "      <td>5.3677</td>\n",
       "    </tr>\n",
       "    <tr>\n",
       "      <th>210</th>\n",
       "      <td>0.0071</td>\n",
       "      <td>0.0157</td>\n",
       "      <td>6.3074</td>\n",
       "    </tr>\n",
       "  </tbody>\n",
       "</table>\n",
       "</div>"
      ],
      "text/plain": [
       "     leverage  cooks_d  abs_resid\n",
       "26     0.0116   0.0261     6.3364\n",
       "368    0.0237   0.0243     4.2265\n",
       "50     0.0126   0.0228     5.6964\n",
       "317    0.0129   0.0205     5.3220\n",
       "166    0.0286   0.0198     3.4552\n",
       "377    0.0066   0.0183     7.0515\n",
       "259    0.0119   0.0177     5.1481\n",
       "144    0.0119   0.0169     5.0385\n",
       "31     0.0098   0.0158     5.3677\n",
       "210    0.0071   0.0157     6.3074"
      ]
     },
     "execution_count": 65,
     "metadata": {},
     "output_type": "execute_result"
    }
   ],
   "source": [
    "import numpy as np\n",
    "import pandas as pd\n",
    "\n",
    "# Influence measures for model_e\n",
    "influence = model_e.get_influence()\n",
    "leverage = influence.hat_matrix_diag\n",
    "cooks = influence.cooks_distance[0]\n",
    "\n",
    "# Combine into a DataFrame\n",
    "diag = pd.DataFrame({\n",
    "    \"leverage\": leverage,\n",
    "    \"cooks_d\": cooks,\n",
    "    \"abs_resid\": np.abs(model_e.resid)\n",
    "})\n",
    "\n",
    "# Show top 10 observations with the largest influence\n",
    "diag.sort_values([\"cooks_d\", \"leverage\", \"abs_resid\"], ascending=False).head(10).round(4)"
   ]
  },
  {
   "cell_type": "markdown",
   "id": "5d9df700-628a-4610-bd03-8f6287563317",
   "metadata": {},
   "source": [
    "The diagnostic table shows a few points with higher leverage or Cook’s distance.  \n",
    "However, none are extreme enough to strongly affect the model (rule of thumb: Cook’s D > 4/n, where n = 400).  \n",
    "\n",
    "So, while a few observations stand out, there is no strong evidence of problematic outliers or high-leverage points in this model."
   ]
  },
  {
   "cell_type": "markdown",
   "id": "0949c79b-b604-455e-923a-c5e73fb924bd",
   "metadata": {},
   "source": [
    "### Question 3:"
   ]
  },
  {
   "cell_type": "markdown",
   "id": "70601aef-da62-4b5f-b3f6-d71013561b33",
   "metadata": {},
   "source": [
    "#### (a)\n",
    "\n",
    "To guarantee continuity and smoothness at \\(x=a\\):\n",
    "\n",
    "**Continuity condition**\n",
    "\n",
    "$$\n",
    "\\frac{1}{2}a^2 + \\beta_1 a + \\beta_2 a^2 = \\beta_3 a + \\beta_4 a^2\n",
    "$$\n",
    "\n",
    "**First-derivative condition (smoothness)**\n",
    "\n",
    "$$\n",
    "\\beta_1 + 2\\beta_2 a = \\beta_3 + 2\\beta_4 a\n",
    "$$\n",
    "\n",
    "Equivalently, in matrix form:\n",
    "\n",
    "$$\n",
    "A \\beta = b, \\quad \n",
    "A = \n",
    "\\begin{bmatrix}\n",
    "a & a^2 & -a & -a^2 \\\\\n",
    "1 & 2a  & -1 & -2a\n",
    "\\end{bmatrix},\n",
    "\\quad\n",
    "b =\n",
    "\\begin{bmatrix}\n",
    "-\\tfrac{1}{2}a^2 \\\\\n",
    "0\n",
    "\\end{bmatrix}\n",
    "$$"
   ]
  },
  {
   "cell_type": "markdown",
   "id": "fcfc63d9-291b-4ea7-9084-89b56cd75683",
   "metadata": {},
   "source": [
    "#### (b)\n",
    "The constrained least squares problem is:\n",
    "\n",
    "$$\n",
    "\\min_{\\beta_1,\\beta_2,\\beta_3,\\beta_4} \n",
    "\\sum_{i=1}^N \\Big( y_i - f(x_i) \\Big)^2\n",
    "$$\n",
    "\n",
    "subject to the two equality constraints from (a):\n",
    "\n",
    "$$\n",
    "\\begin{cases}\n",
    "\\frac{1}{2}a^2 + \\beta_1 a + \\beta_2 a^2 = \\beta_3 a + \\beta_4 a^2 \\\\[6pt]\n",
    "\\beta_1 + 2\\beta_2 a = \\beta_3 + 2\\beta_4 a\n",
    "\\end{cases}\n",
    "$$"
   ]
  },
  {
   "cell_type": "markdown",
   "id": "a6a46736-a77a-44e7-b50a-53af6d90d203",
   "metadata": {},
   "source": [
    "### Question 4:"
   ]
  },
  {
   "cell_type": "markdown",
   "id": "1063bcfc-15c4-4732-9483-8310f29aa89e",
   "metadata": {},
   "source": [
    "#### (c) Plot the 100 training points \\((x_i, y_i)\\)"
   ]
  },
  {
   "cell_type": "code",
   "execution_count": 77,
   "id": "0dc0fc89-1216-4ada-821f-a3da908592f9",
   "metadata": {},
   "outputs": [
    {
     "data": {
      "image/png": "[encoded data removed]",
      "text/plain": [
       "<Figure size 800x600 with 1 Axes>"
      ]
     },
     "metadata": {},
     "output_type": "display_data"
    }
   ],
   "source": [
    "import pandas as pd\n",
    "import numpy as np\n",
    "import matplotlib.pyplot as plt\n",
    "\n",
    "def load_xy(path):\n",
    "    # First try reading with a header\n",
    "    df = pd.read_csv(path, sep=r\"\\s+\", engine=\"python\")\n",
    "    # Normalize possible quoted headers like '\"X\"'\n",
    "    df.columns = [c.strip().strip('\"') for c in df.columns]\n",
    "    if not {\"X\",\"Y\"}.issubset(df.columns) or df.shape[1] != 2:\n",
    "        # Fallback: no header present to set names\n",
    "        df = pd.read_csv(path, sep=r\"\\s+\", engine=\"python\", header=None, names=[\"X\",\"Y\"])\n",
    "    # Ensure numeric\n",
    "    df[\"X\"] = pd.to_numeric(df[\"X\"], errors=\"coerce\")\n",
    "    df[\"Y\"] = pd.to_numeric(df[\"Y\"], errors=\"coerce\")\n",
    "    return df.dropna(subset=[\"X\",\"Y\"]).reset_index(drop=True)\n",
    "\n",
    "train = load_xy(\"nonlintrain.txt\")\n",
    "test  = load_xy(\"nonlintest.txt\")\n",
    "\n",
    "# Scatter plot \n",
    "plt.figure(figsize=(8,6))\n",
    "plt.scatter(train[\"X\"], train[\"Y\"], s=40, label=\"Train\")\n",
    "plt.xlabel(\"X\"); plt.ylabel(\"Y\"); plt.title(\"Training Data (100 points)\")\n",
    "plt.legend()\n",
    "plt.xticks(np.linspace(train[\"X\"].min(), train[\"X\"].max(), 10))\n",
    "plt.yticks(np.linspace(train[\"Y\"].min(), train[\"Y\"].max(), 10))\n",
    "plt.grid(True, linestyle=\"--\", alpha=0.5)\n",
    "plt.show()"
   ]
  },
  {
   "cell_type": "markdown",
   "id": "3a6d2e3b-0cbb-41a3-be36-f018fd843973",
   "metadata": {},
   "source": [
    "We plotted the 100 training data points \\((x_i, y_i)\\) to get an idea of the trend.\n",
    "\n",
    "**Observations:**\n",
    "- The relationship between X and Y is clearly nonlinear.  \n",
    "- At small values of X, Y fluctuates near zero.  \n",
    "- As X increases toward the middle range, Y starts to decrease more rapidly.  \n",
    "- Toward higher values of X, the downward trend continues, showing a curved, nonlinear shape.  \n",
    "- The scatter suggests that a simple linear regression would not be appropriate.\n",
    "- Looks like a more flexible model such as kernel regression is needed to capture the structure."
   ]
  },
  {
   "cell_type": "markdown",
   "id": "17d82c69-8ff1-4511-8935-83155c068651",
   "metadata": {},
   "source": [
    "#### (d) Kernel Regression with Different Bandwidths"
   ]
  },
  {
   "cell_type": "code",
   "execution_count": 78,
   "id": "a12017dc-8a4f-4273-9eb5-0fb1774f441e",
   "metadata": {},
   "outputs": [
    {
     "data": {
      "image/png": "[encoded data removed]",
      "text/plain": [
       "<Figure size 800x600 with 1 Axes>"
      ]
     },
     "metadata": {},
     "output_type": "display_data"
    }
   ],
   "source": [
    "import numpy as np\n",
    "import matplotlib.pyplot as plt\n",
    "\n",
    "# Gaussian kernel regression\n",
    "def kernel_regression(x_train, y_train, x_eval, h):\n",
    "    # Pairwise distance between eval points and train points\n",
    "    dists = (x_eval[:, None] - x_train[None, :]) / h\n",
    "    weights = np.exp(-0.5 * dists**2)\n",
    "    weights /= weights.sum(axis=1, keepdims=True)\n",
    "    return weights.dot(y_train)\n",
    "\n",
    "# Prepare evaluation grid\n",
    "x_eval = np.linspace(train[\"X\"].min(), train[\"X\"].max(), 200)\n",
    "\n",
    "plt.figure(figsize=(8,6))\n",
    "plt.scatter(train[\"X\"], train[\"Y\"], c=\"gray\", s=30, label=\"Training Data\")\n",
    "\n",
    "# Try different bandwidths\n",
    "for h in [0.01, 0.25, 1]:\n",
    "    y_pred = kernel_regression(train[\"X\"].values, train[\"Y\"].values, x_eval, h)\n",
    "    plt.plot(x_eval, y_pred, lw=2, label=f\"h = {h}\")\n",
    "\n",
    "plt.xlabel(\"X\")\n",
    "plt.ylabel(\"Y\")\n",
    "plt.title(\"Kernel Regression with Different Bandwidths\")\n",
    "plt.legend()\n",
    "plt.grid(True, linestyle=\"--\", alpha=0.5)\n",
    "plt.show()"
   ]
  },
  {
   "cell_type": "markdown",
   "id": "c1bddfec-00da-4e63-ab7f-f4f33c9e15ba",
   "metadata": {},
   "source": [
    "We fitted a Gaussian kernel regression to the training data using three different \n",
    "bandwidth values: **0.01**, **0.25** and **1**. The estimated regression curves were \n",
    "plotted on top of the training scatter plot.\n",
    "\n",
    "**Observations:**\n",
    "- **h = 0.01**: The curve is extremely wiggly, almost interpolating the noise in the data.  \n",
    "  This shows **overfitting** (very high variance).\n",
    "- **h = 0.25**: The curve is smooth and follows the underlying nonlinear pattern well.  \n",
    "  This seems to balance bias and variance.\n",
    "- **h = 1**: The curve is almost flat, missing important variations in the data.  \n",
    "  This shows **underfitting** (very high bias).\n",
    "\n",
    "Hence, smaller bandwidth values capture fine details but risk overfitting, while larger \n",
    "bandwidth values smooth too much and lose structure."
   ]
  },
  {
   "cell_type": "markdown",
   "id": "3aca3010-d310-468e-be97-1966431b3fe4",
   "metadata": {},
   "source": [
    "#### (e) Effect of Bandwidth Going to 0\n",
    "\n",
    "By inspection, as the bandwidth parameter (h to 0):\n",
    "\n",
    "- The kernel regression fit hugs every training point.  \n",
    "- The curve becomes very wiggly and noisy in the data.\n",
    "- This leads to overfitting, the variance of the model becomes very high, while its ability to generalize to new data points decreases.   "
   ]
  },
  {
   "cell_type": "markdown",
   "id": "4163cdd1-d1d4-4225-b0ca-a8cd7278d188",
   "metadata": {},
   "source": [
    "#### (f) Predictive Performance on Test Set"
   ]
  },
  {
   "cell_type": "code",
   "execution_count": 79,
   "id": "aa5a28aa-018b-4411-8219-a24c316fdb41",
   "metadata": {},
   "outputs": [
    {
     "data": {
      "image/png": "[encoded data removed]",
      "text/plain": [
       "<Figure size 800x600 with 1 Axes>"
      ]
     },
     "metadata": {},
     "output_type": "display_data"
    }
   ],
   "source": [
    "# Bandwidth values\n",
    "hs = np.linspace(0.01, 1, 20)\n",
    "\n",
    "test_errors = []\n",
    "for h in hs:\n",
    "    y_pred = kernel_regression(train[\"X\"].values, train[\"Y\"].values,\n",
    "                               test[\"X\"].values, h)\n",
    "    mse = np.mean((test[\"Y\"].values - y_pred)**2)\n",
    "    test_errors.append(mse)\n",
    "\n",
    "# Plot test error curve\n",
    "import matplotlib.pyplot as plt\n",
    "\n",
    "plt.figure(figsize=(8,6))\n",
    "plt.plot(hs, test_errors, marker=\"o\")\n",
    "plt.xlabel(\"Bandwidth h\")\n",
    "plt.ylabel(\"Test MSE\")\n",
    "plt.title(\"Test Error vs. Bandwidth\")\n",
    "plt.grid(True, linestyle=\"--\", alpha=0.5)\n",
    "plt.show()"
   ]
  },
  {
   "cell_type": "markdown",
   "id": "d55abe12-26c2-45d5-9849-b81eaabba9a4",
   "metadata": {},
   "source": [
    " The test error curve is **U-shaped**:\n",
    "\n",
    "- For very small bandwidth values ($h \\approx 0.01$), the test error is already low, but \n",
    "as $h$ decreases further the fit becomes too wiggly and unstable.  \n",
    "- As bandwidth increases ($h > 0.2$), the test error rises steadily.  \n",
    "- For large bandwidths ($h \\approx 1$), the kernel regression severely underfits, \n",
    "leading to high bias and high test error.  \n",
    "\n",
    "Hence, the model achieves the lowest test error at a small but nonzero bandwidth $\\hat{h}$, \n",
    "balancing variance and bias. This confirms the expected **bias–variance tradeoff**."
   ]
  },
  {
   "cell_type": "markdown",
   "id": "0b110202-8d2c-4fcc-b5b8-9b197ab6e2c5",
   "metadata": {},
   "source": [
    "#### (g) Optimal Bandwidth and Model Fit"
   ]
  },
  {
   "cell_type": "code",
   "execution_count": 81,
   "id": "39d9e7c9-c576-48d5-a3ec-687070463c31",
   "metadata": {},
   "outputs": [
    {
     "name": "stdout",
     "output_type": "stream",
     "text": [
      "Optimal bandwidth (h*): 0.06210526315789474\n",
      "Associated test MSE: 0.00012923819599820201\n"
     ]
    },
    {
     "data": {
      "image/png": "[encoded data removed]",
      "text/plain": [
       "<Figure size 800x600 with 1 Axes>"
      ]
     },
     "metadata": {},
     "output_type": "display_data"
    }
   ],
   "source": [
    "# Find optimal bandwidth\n",
    "best_h = hs[np.argmin(test_errors)]\n",
    "best_err = np.min(test_errors)\n",
    "\n",
    "print(\"Optimal bandwidth (h*):\", best_h)\n",
    "print(\"Associated test MSE:\", best_err)\n",
    "\n",
    "# Fit kernel regression with best bandwidth\n",
    "x_eval = np.linspace(train[\"X\"].min(), train[\"X\"].max(), 200)\n",
    "y_best = kernel_regression(train[\"X\"].values, train[\"Y\"].values, x_eval, best_h)\n",
    "\n",
    "# Plot training points and best fit\n",
    "plt.figure(figsize=(8,6))\n",
    "plt.scatter(train[\"X\"], train[\"Y\"], c=\"gray\", s=30, label=\"Training Data\")\n",
    "plt.plot(x_eval, y_best, \"b-\", lw=2, label=f\"Kernel Regression (h* = {best_h:.3f})\")\n",
    "plt.xlabel(\"X\"); plt.ylabel(\"Y\")\n",
    "plt.title(\"Kernel Regression Fit at Optimal Bandwidth\")\n",
    "plt.legend()\n",
    "plt.grid(True, linestyle=\"--\", alpha=0.5)\n",
    "plt.show()"
   ]
  },
  {
   "cell_type": "markdown",
   "id": "bf09707d-6dd1-4d64-bb52-b65ec1727a44",
   "metadata": {},
   "source": [
    "From the test error curve, the optimal bandwidth was found to be:\n",
    "\n",
    "- $\\hat{h} \\approx 0.062$  \n",
    "- Associated test error: $\\text{MSE} \\approx 0.000129$  \n",
    "\n",
    "**Observations:**\n",
    "- At $\\hat{h}$, the curve follows the main nonlinear trend in the data.  \n",
    "- It avoids overfitting noise (like very small bandwidths) and also avoids oversmoothing (like very large bandwidths).  \n",
    "\n",
    "Yes, the fit at $\\hat{h}$ matches what we see from the test error: it gives a good balance between bias and variance."
   ]
  },
  {
   "cell_type": "code",
   "execution_count": null,
   "id": "6872c65f-c51d-4a67-b1e6-d10a19c3f588",
   "metadata": {},
   "outputs": [],
   "source": []
  }
 ],
 "metadata": {
  "kernelspec": {
   "display_name": "Python [conda env:base] *",
   "language": "python",
   "name": "conda-base-py"
  },
  "language_info": {
   "codemirror_mode": {
    "name": "ipython",
    "version": 3
   },
   "file_extension": ".py",
   "mimetype": "text/x-python",
   "name": "python",
   "nbconvert_exporter": "python",
   "pygments_lexer": "ipython3",
   "version": "3.13.5"
  }
 },
 "nbformat": 4,
 "nbformat_minor": 5
}
